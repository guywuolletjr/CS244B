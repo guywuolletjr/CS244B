{
 "cells": [
  {
   "cell_type": "code",
   "execution_count": null,
   "metadata": {},
   "outputs": [],
   "source": [
    "import boto3\n",
    "import sys\n",
    "from botocore.exceptions import ClientError\n",
    "import logging\n"
   ]
  },
  {
   "cell_type": "code",
   "execution_count": null,
   "metadata": {},
   "outputs": [],
   "source": [
    "ec2_client = boto3.client('ec2')\n",
    "response = ec2_client.describe_instances()\n",
    "response"
   ]
  },
  {
   "cell_type": "code",
   "execution_count": null,
   "metadata": {},
   "outputs": [],
   "source": [
    "#I used https://github.com/awsdocs/aws-doc-sdk-examples/blob/master/python/example_code/ec2/create_instance.py for help here\n",
    "\n",
    "def create_ec2_instance(image_id, instance_type, keypair_name, security_group, security_group_id, iam_role_name):\n",
    "    \"\"\"Provision and launch an EC2 instance\n",
    "    The method returns without waiting for the instance to reach\n",
    "    a running state.\n",
    "    :param image_id: ID of AMI to launch, such as 'ami-XXXX'\n",
    "    :param instance_type: string, such as 't2.micro'\n",
    "    :param keypair_name: string, name of the key pair\n",
    "    :return Dictionary containing information about the instance. If error,\n",
    "    returns None.\n",
    "    \"\"\"\n",
    "\n",
    "    # Provision and launch the EC2 instance\n",
    "    ec2_client = boto3.client('ec2')\n",
    "    try:\n",
    "        response = ec2_client.run_instances(ImageId=image_id,\n",
    "                                            InstanceType=instance_type,\n",
    "                                            KeyName=keypair_name,\n",
    "                                            SecurityGroupIds = [security_group_id],\n",
    "                                            SecurityGroups= [security_group],\n",
    "                                            IamInstanceProfile={\n",
    "                                                #'Arn': 'arn:aws:iam::578971879148:instance-profile/EnablesEC2ToAccessSystemsManagerRole',\n",
    "                                                'Name': iam_role_name\n",
    "                                            },\n",
    "                                            MinCount=1,\n",
    "                                            MaxCount=1)\n",
    "    except ClientError as e:\n",
    "        logging.error(e)\n",
    "        return None\n",
    "    return response\n",
    "\n",
    "\n",
    "AMI_IMAGE_ID = 'ami-02f53f5f90a9cc773' #This is the Amazon machine image ID\n",
    "INSTANCE_TYPE = 't2.micro' #this is the type of vm ec2 instance\n",
    "KEYPAIR_NAME = 'key' #this is the name of the key that allows you to ssh into the instance\n",
    "SECURITY_GROUP = 'kademlia-all-access' #this is the name of the security group. I custom defined a security group that allows any protocol to connect on any port.\n",
    "SECURITY_GROUP_ID = 'sg-06474ad72b0f3fd58' #this is the id associated with the security group on our account\n",
    "IAM_ROLE_NAME = 'EnablesEC2ToAccessSystemsManagerRole' #this is the iam role to allow ssm to send commands to each instance.\n",
    "\n",
    "# Set up logging\n",
    "logging.basicConfig(level=logging.DEBUG,\n",
    "                    format='%(levelname)s: %(asctime)s: %(message)s')\n",
    "\n",
    "response = create_ec2_instance(AMI_IMAGE_ID, INSTANCE_TYPE, KEYPAIR_NAME, SECURITY_GROUP, SECURITY_GROUP_ID, IAM_ROLE_NAME)\n",
    "\n",
    "ec2 = boto3.resource('ec2')\n",
    "\n",
    "# AWS Instance Type Docs: https://boto3.amazonaws.com/v1/documentation/api/latest/reference/services/ec2.html#instance\n",
    "instances = [] #this is a python list of type ec2 instance objects\n",
    "\n",
    "for instance in response['Instances']:\n",
    "    logging.info(f'Launched EC2 Instance {instance[\"InstanceId\"]}')\n",
    "    logging.info(f'    VPC ID: {instance[\"VpcId\"]}')\n",
    "    logging.info(f'    Private IP Address: {instance[\"PrivateIpAddress\"]}')\n",
    "    logging.info(f'    Current State: {instance[\"State\"][\"Name\"]}')\n",
    "    print(instance)\n",
    "    instances.append(ec2.Instance(instance[\"InstanceId\"])) #creates the ec2 instance object\n",
    "\n",
    "for instance in instances:\n",
    "    instance.wait_until_running()\n",
    "    print(instance)\n",
    "    print(instance.public_ip_address)\n",
    "                  \n",
    "\n"
   ]
  },
  {
   "cell_type": "code",
   "execution_count": null,
   "metadata": {},
   "outputs": [],
   "source": [
    "instances #use this if spawning nodes from scratch\n",
    "# instances[0].iam_instance_profile\n"
   ]
  },
  {
   "cell_type": "code",
   "execution_count": null,
   "metadata": {},
   "outputs": [],
   "source": [
    "def get_running_instances():\n",
    "    \"\"\" Returns a list of instance objects for instances that are already running. \n",
    "        Does not spawn any instances. \n",
    "    \"\"\"\n",
    "\n",
    "    ec2_client = boto3.client('ec2')\n",
    "    response = ec2_client.describe_instances()\n",
    "\n",
    "    ec2 = boto3.resource('ec2')\n",
    "    instances = []\n",
    "\n",
    "    for reservation in response['Reservations']:\n",
    "        for instance in reservation[\"Instances\"]:\n",
    "            instances.append(ec2.Instance(instance[\"InstanceId\"])) #creates the ec2 instance object\n",
    "    \n",
    "    for instance in instances:\n",
    "        instance.wait_until_running #this assumes all instances are running, TODO maybe check and then start if not?\n",
    "        print(instance)\n",
    "        print(instance.public_ip_address)\n",
    "    \n",
    "    return instances\n",
    "\n",
    "instances = get_running_instances()\n",
    "instances"
   ]
  },
  {
   "cell_type": "code",
   "execution_count": null,
   "metadata": {},
   "outputs": [],
   "source": [
    "instances[0].public_ip_address"
   ]
  },
  {
   "cell_type": "code",
   "execution_count": null,
   "metadata": {},
   "outputs": [],
   "source": [
    "# I used https://stackoverflow.com/questions/42645196/how-to-ssh-and-run-commands-in-ec2-using-boto3 for help\n",
    "# AWS SSM Docs: https://boto3.amazonaws.com/v1/documentation/api/latest/reference/services/ssm.html\n",
    "# AWS SSM Info: https://docs.aws.amazon.com/systems-manager/latest/userguide/what-is-systems-manager.html\n",
    "# AWS SSM Getting Started Guide: https://aws.amazon.com/getting-started/hands-on/remotely-run-commands-ec2-instance-systems-manager/\n",
    "\n",
    "ssm_client = boto3.client('ssm')\n",
    "ssm_client.describe_instance_information()\n"
   ]
  },
  {
   "cell_type": "code",
   "execution_count": null,
   "metadata": {},
   "outputs": [],
   "source": [
    "def run_nodes(ksize, alpha):\n",
    "    ''' This function will run the actual testing for success rate once\n",
    "        we have all the instances spawned and set up. It assumes instances[0]\n",
    "        is the first (bootstrapping) node that never churns. This is desgined to \n",
    "        be defined within another function or in a larger script \n",
    "    '''\n",
    "    \n",
    "    first_node_ip = instances[0].public_ip_address\n",
    "    if(first_node_ip == None): \n",
    "        println(\"\\n\\n\\n\\n\\n ERROR: Failed to get public IPv4 address for the first (bootstrapping) node\")\n",
    "    \n",
    "    first_node_command = 'python3 /home/ec2-user/CS244B/aws/kademlia_scripts/first_node.py {} {}'.format(ksize, alpha) \n",
    "    bootstrap_server_command = 'python3 /home/ec2-user/CS244B/aws/kademlia_scripts/run_node.py {} 8468'.format(first_node_ip)\n",
    "    \n",
    "    def get_command(key): \n",
    "        _get_command = 'python3 /home/ec2-user/CS244B/aws/kademlia_scripts/get.py {} 8468 {}'.format(first_node_ip, key)\n",
    "        return _get_command\n",
    "    def set_command(key, value):\n",
    "        _set_command = 'python3 /home/ec2-user/CS244B/aws/kademlia_scripts/set.py {} 8468 {} {}'.format(first_node_ip, key, value)\n",
    "        return _set_command\n",
    "    \n",
    "    \n",
    "\n",
    "def execute_commands_on_linux_instances(client, commands, instance_ids):\n",
    "    \"\"\"Runs commands on remote linux instances\n",
    "    :param client: a boto/boto3 ssm client\n",
    "    :param commands: a list of strings, each one a command to execute on the instances\n",
    "    :param instance_ids: a list of instance_id strings, of the instances on which to execute the command\n",
    "    :return: the response from the send_command function (check the boto3 docs for ssm client.send_command() )\n",
    "    \"\"\"\n",
    "\n",
    "    resp = client.send_command(\n",
    "        DocumentName=\"AWS-RunShellScript\", # One of AWS' preconfigured documents\n",
    "        Parameters={'commands': commands},\n",
    "        InstanceIds=instance_ids,\n",
    "    )\n",
    "    return resp\n",
    "\n",
    "# Example use:\n",
    "ssm_client = boto3.client('ssm') # Need your credentials here\n",
    "commands = ['python3 /home/ec2-user/CS244B/aws/kademlia_scripts/first_node.py 20 3']\n",
    "instance_ids = ['i-01bc49ae38883ba25']\n",
    "response1 = execute_commands_on_linux_instances(ssm_client, commands, instance_ids)\n",
    "response1\n",
    "\n",
    "commands = ['python3 /home/ec2-user/CS244B/aws/kademlia_scripts/test.py 18.218.145.173 8468 a 5']\n",
    "instance_ids = ['i-029096fe3848618fe']\n",
    "response2 = execute_commands_on_linux_instances(ssm_client, commands, instance_ids)\n",
    "response2\n",
    "\n",
    "\n"
   ]
  },
  {
   "cell_type": "code",
   "execution_count": null,
   "metadata": {},
   "outputs": [],
   "source": [
    "ssm_client.get_command_invocation(CommandId=response1['Command']['CommandId'],\n",
    "    InstanceId= response1['Command']['InstanceIds'][0])"
   ]
  },
  {
   "cell_type": "code",
   "execution_count": null,
   "metadata": {},
   "outputs": [],
   "source": [
    "ssm_client.get_command_invocation(CommandId=response2['Command']['CommandId'],\n",
    "    InstanceId= response2['Command']['InstanceIds'][0])"
   ]
  },
  {
   "cell_type": "code",
   "execution_count": null,
   "metadata": {},
   "outputs": [],
   "source": [
    "def cancel_all_commands(): \n",
    "    response = ssm_client.list_commands()\n",
    "    \n",
    "    remaining_uncanceled = True\n",
    "    \n",
    "    while(remaining_uncanceled):\n",
    "    \n",
    "        remaining_uncanceled = False\n",
    "        \n",
    "        for command in response[\"Commands\"]: \n",
    "            if command['Status'] == 'InProgress': \n",
    "                remaining_uncanceled = True\n",
    "                response = ssm_client.cancel_command(CommandId=command['CommandId'])\n",
    "                print(response)\n",
    "    \n",
    "cancel_all_commands()"
   ]
  },
  {
   "cell_type": "code",
   "execution_count": null,
   "metadata": {},
   "outputs": [],
   "source": []
  }
 ],
 "metadata": {
  "kernelspec": {
   "display_name": "Python 3",
   "language": "python",
   "name": "python3"
  },
  "language_info": {
   "codemirror_mode": {
    "name": "ipython",
    "version": 3
   },
   "file_extension": ".py",
   "mimetype": "text/x-python",
   "name": "python",
   "nbconvert_exporter": "python",
   "pygments_lexer": "ipython3",
   "version": "3.7.3"
  }
 },
 "nbformat": 4,
 "nbformat_minor": 2
}
