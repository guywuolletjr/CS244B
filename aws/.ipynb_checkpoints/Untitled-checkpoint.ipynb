{
 "cells": [
  {
   "cell_type": "code",
   "execution_count": 1,
   "metadata": {},
   "outputs": [],
   "source": [
    "import boto3\n",
    "import sys\n",
    "from botocore.exceptions import ClientError\n",
    "import logging"
   ]
  },
  {
   "cell_type": "code",
   "execution_count": 2,
   "metadata": {},
   "outputs": [
    {
     "name": "stdout",
     "output_type": "stream",
     "text": [
      "{'Reservations': [{'Groups': [], 'Instances': [{'AmiLaunchIndex': 2, 'ImageId': 'ami-026dea5602e368e96', 'InstanceId': 'i-01bc49ae38883ba25', 'InstanceType': 't2.micro', 'KeyName': 'key', 'LaunchTime': datetime.datetime(2020, 6, 6, 20, 1, 26, tzinfo=tzutc()), 'Monitoring': {'State': 'disabled'}, 'Placement': {'AvailabilityZone': 'us-east-2b', 'GroupName': '', 'Tenancy': 'default'}, 'PrivateDnsName': 'ip-172-31-23-159.us-east-2.compute.internal', 'PrivateIpAddress': '172.31.23.159', 'ProductCodes': [], 'PublicDnsName': 'ec2-18-218-145-173.us-east-2.compute.amazonaws.com', 'PublicIpAddress': '18.218.145.173', 'State': {'Code': 16, 'Name': 'running'}, 'StateTransitionReason': '', 'SubnetId': 'subnet-4c4a2836', 'VpcId': 'vpc-2b6c6043', 'Architecture': 'x86_64', 'BlockDeviceMappings': [{'DeviceName': '/dev/xvda', 'Ebs': {'AttachTime': datetime.datetime(2020, 6, 6, 20, 1, 27, tzinfo=tzutc()), 'DeleteOnTermination': True, 'Status': 'attached', 'VolumeId': 'vol-0970545c4639a76d2'}}], 'ClientToken': '', 'EbsOptimized': False, 'EnaSupport': True, 'Hypervisor': 'xen', 'NetworkInterfaces': [{'Association': {'IpOwnerId': 'amazon', 'PublicDnsName': 'ec2-18-218-145-173.us-east-2.compute.amazonaws.com', 'PublicIp': '18.218.145.173'}, 'Attachment': {'AttachTime': datetime.datetime(2020, 6, 6, 20, 1, 26, tzinfo=tzutc()), 'AttachmentId': 'eni-attach-0c459397b1feddb91', 'DeleteOnTermination': True, 'DeviceIndex': 0, 'Status': 'attached'}, 'Description': '', 'Groups': [{'GroupName': 'kademlia-all-access', 'GroupId': 'sg-06474ad72b0f3fd58'}], 'Ipv6Addresses': [], 'MacAddress': '06:e9:59:c4:7d:be', 'NetworkInterfaceId': 'eni-0fb988d9e0400e55f', 'OwnerId': '578971879148', 'PrivateDnsName': 'ip-172-31-23-159.us-east-2.compute.internal', 'PrivateIpAddress': '172.31.23.159', 'PrivateIpAddresses': [{'Association': {'IpOwnerId': 'amazon', 'PublicDnsName': 'ec2-18-218-145-173.us-east-2.compute.amazonaws.com', 'PublicIp': '18.218.145.173'}, 'Primary': True, 'PrivateDnsName': 'ip-172-31-23-159.us-east-2.compute.internal', 'PrivateIpAddress': '172.31.23.159'}], 'SourceDestCheck': True, 'Status': 'in-use', 'SubnetId': 'subnet-4c4a2836', 'VpcId': 'vpc-2b6c6043', 'InterfaceType': 'interface'}], 'RootDeviceName': '/dev/xvda', 'RootDeviceType': 'ebs', 'SecurityGroups': [{'GroupName': 'kademlia-all-access', 'GroupId': 'sg-06474ad72b0f3fd58'}], 'SourceDestCheck': True, 'Tags': [{'Key': 'Name', 'Value': 'first_node'}], 'VirtualizationType': 'hvm', 'CpuOptions': {'CoreCount': 1, 'ThreadsPerCore': 1}, 'CapacityReservationSpecification': {'CapacityReservationPreference': 'open'}, 'HibernationOptions': {'Configured': False}}], 'OwnerId': '578971879148', 'ReservationId': 'r-054f4633f8d505759'}, {'Groups': [], 'Instances': [{'AmiLaunchIndex': 2, 'ImageId': 'ami-0bd29fe2252ced484', 'InstanceId': 'i-06eddc5b8a695a69f', 'InstanceType': 't2.micro', 'KeyName': 'key', 'LaunchTime': datetime.datetime(2020, 6, 6, 20, 18, 50, tzinfo=tzutc()), 'Monitoring': {'State': 'disabled'}, 'Placement': {'AvailabilityZone': 'us-east-2b', 'GroupName': '', 'Tenancy': 'default'}, 'PrivateDnsName': '', 'ProductCodes': [], 'PublicDnsName': '', 'State': {'Code': 48, 'Name': 'terminated'}, 'StateTransitionReason': 'User initiated (2020-06-06 21:17:27 GMT)', 'Architecture': 'x86_64', 'BlockDeviceMappings': [], 'ClientToken': '', 'EbsOptimized': False, 'EnaSupport': True, 'Hypervisor': 'xen', 'NetworkInterfaces': [], 'RootDeviceName': '/dev/xvda', 'RootDeviceType': 'ebs', 'SecurityGroups': [], 'StateReason': {'Code': 'Client.UserInitiatedShutdown', 'Message': 'Client.UserInitiatedShutdown: User initiated shutdown'}, 'VirtualizationType': 'hvm', 'CpuOptions': {'CoreCount': 1, 'ThreadsPerCore': 1}, 'CapacityReservationSpecification': {'CapacityReservationPreference': 'open'}, 'HibernationOptions': {'Configured': False}}, {'AmiLaunchIndex': 1, 'ImageId': 'ami-0bd29fe2252ced484', 'InstanceId': 'i-0291ee2483e564bad', 'InstanceType': 't2.micro', 'KeyName': 'key', 'LaunchTime': datetime.datetime(2020, 6, 6, 20, 18, 50, tzinfo=tzutc()), 'Monitoring': {'State': 'disabled'}, 'Placement': {'AvailabilityZone': 'us-east-2b', 'GroupName': '', 'Tenancy': 'default'}, 'PrivateDnsName': '', 'ProductCodes': [], 'PublicDnsName': '', 'State': {'Code': 48, 'Name': 'terminated'}, 'StateTransitionReason': 'User initiated (2020-06-06 21:17:27 GMT)', 'Architecture': 'x86_64', 'BlockDeviceMappings': [], 'ClientToken': '', 'EbsOptimized': False, 'EnaSupport': True, 'Hypervisor': 'xen', 'NetworkInterfaces': [], 'RootDeviceName': '/dev/xvda', 'RootDeviceType': 'ebs', 'SecurityGroups': [], 'StateReason': {'Code': 'Client.UserInitiatedShutdown', 'Message': 'Client.UserInitiatedShutdown: User initiated shutdown'}, 'VirtualizationType': 'hvm', 'CpuOptions': {'CoreCount': 1, 'ThreadsPerCore': 1}, 'CapacityReservationSpecification': {'CapacityReservationPreference': 'open'}, 'HibernationOptions': {'Configured': False}}, {'AmiLaunchIndex': 0, 'ImageId': 'ami-0bd29fe2252ced484', 'InstanceId': 'i-0f99299268589273a', 'InstanceType': 't2.micro', 'KeyName': 'key', 'LaunchTime': datetime.datetime(2020, 6, 6, 20, 18, 50, tzinfo=tzutc()), 'Monitoring': {'State': 'disabled'}, 'Placement': {'AvailabilityZone': 'us-east-2b', 'GroupName': '', 'Tenancy': 'default'}, 'PrivateDnsName': '', 'ProductCodes': [], 'PublicDnsName': '', 'State': {'Code': 48, 'Name': 'terminated'}, 'StateTransitionReason': 'User initiated (2020-06-06 21:17:27 GMT)', 'Architecture': 'x86_64', 'BlockDeviceMappings': [], 'ClientToken': '', 'EbsOptimized': False, 'EnaSupport': True, 'Hypervisor': 'xen', 'NetworkInterfaces': [], 'RootDeviceName': '/dev/xvda', 'RootDeviceType': 'ebs', 'SecurityGroups': [], 'StateReason': {'Code': 'Client.UserInitiatedShutdown', 'Message': 'Client.UserInitiatedShutdown: User initiated shutdown'}, 'VirtualizationType': 'hvm', 'CpuOptions': {'CoreCount': 1, 'ThreadsPerCore': 1}, 'CapacityReservationSpecification': {'CapacityReservationPreference': 'open'}, 'HibernationOptions': {'Configured': False}}], 'OwnerId': '578971879148', 'ReservationId': 'r-0896254f35e642e0c'}], 'ResponseMetadata': {'RequestId': 'f4faf450-09fc-4117-b312-b09f1cbe54ff', 'HTTPStatusCode': 200, 'HTTPHeaders': {'x-amzn-requestid': 'f4faf450-09fc-4117-b312-b09f1cbe54ff', 'content-type': 'text/xml;charset=UTF-8', 'transfer-encoding': 'chunked', 'vary': 'accept-encoding', 'date': 'Sat, 06 Jun 2020 21:59:24 GMT', 'server': 'AmazonEC2'}, 'RetryAttempts': 0}}\n"
     ]
    }
   ],
   "source": [
    "ec2 = boto3.client('ec2')\n",
    "response = ec2.describe_instances()\n",
    "print(response)"
   ]
  },
  {
   "cell_type": "code",
   "execution_count": null,
   "metadata": {},
   "outputs": [],
   "source": [
    "#I used https://github.com/awsdocs/aws-doc-sdk-examples/blob/master/python/example_code/ec2/create_instance.py for help here\n",
    "\n",
    "def create_ec2_instance(image_id, instance_type, keypair_name, security_group, security_group_id):\n",
    "    \"\"\"Provision and launch an EC2 instance\n",
    "    The method returns without waiting for the instance to reach\n",
    "    a running state.\n",
    "    :param image_id: ID of AMI to launch, such as 'ami-XXXX'\n",
    "    :param instance_type: string, such as 't2.micro'\n",
    "    :param keypair_name: string, name of the key pair\n",
    "    :return Dictionary containing information about the instance. If error,\n",
    "    returns None.\n",
    "    \"\"\"\n",
    "\n",
    "    # Provision and launch the EC2 instance\n",
    "    ec2_client = boto3.client('ec2')\n",
    "    try:\n",
    "        response = ec2_client.run_instances(ImageId=image_id,\n",
    "                                            InstanceType=instance_type,\n",
    "                                            KeyName=keypair_name,\n",
    "                                            SecurityGroupIds = [security_group_id],\n",
    "                                            SecurityGroups= [security_group],\n",
    "                                            MinCount=1,\n",
    "                                            MaxCount=1)\n",
    "    except ClientError as e:\n",
    "        logging.error(e)\n",
    "        return None\n",
    "    return response['Instances'][0]\n",
    "\n",
    "\n",
    "AMI_IMAGE_ID = 'ami-0f701b4ef73c4d092'\n",
    "INSTANCE_TYPE = 't2.micro'\n",
    "KEYPAIR_NAME = 'key'\n",
    "SECURITY_GROUP = 'kademlia-all-access'\n",
    "SECURITY_GROUP_ID = 'sg-06474ad72b0f3fd58'\n",
    "\n",
    "# Set up logging\n",
    "logging.basicConfig(level=logging.DEBUG,\n",
    "                    format='%(levelname)s: %(asctime)s: %(message)s')\n",
    "\n",
    "instance_info = create_ec2_instance(AMI_IMAGE_ID, INSTANCE_TYPE, KEYPAIR_NAME, SECURITY_GROUP, SECURITY_GROUP_ID)\n",
    "if instance_info is not None:\n",
    "    logging.info(f'Launched EC2 Instance {instance_info[\"InstanceId\"]}')\n",
    "    logging.info(f'    VPC ID: {instance_info[\"VpcId\"]}')\n",
    "    logging.info(f'    Private IP Address: {instance_info[\"PrivateIpAddress\"]}')\n",
    "    logging.info(f'    Current State: {instance_info[\"State\"][\"Name\"]}')\n",
    "print(instance_info)\n"
   ]
  },
  {
   "cell_type": "code",
   "execution_count": null,
   "metadata": {},
   "outputs": [],
   "source": []
  }
 ],
 "metadata": {
  "kernelspec": {
   "display_name": "Python 3",
   "language": "python",
   "name": "python3"
  },
  "language_info": {
   "codemirror_mode": {
    "name": "ipython",
    "version": 3
   },
   "file_extension": ".py",
   "mimetype": "text/x-python",
   "name": "python",
   "nbconvert_exporter": "python",
   "pygments_lexer": "ipython3",
   "version": "3.7.3"
  }
 },
 "nbformat": 4,
 "nbformat_minor": 2
}
